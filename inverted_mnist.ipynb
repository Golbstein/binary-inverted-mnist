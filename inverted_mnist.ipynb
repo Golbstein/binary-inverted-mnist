{
 "cells": [
  {
   "cell_type": "code",
   "execution_count": 1,
   "metadata": {},
   "outputs": [
    {
     "data": {
      "image/png": "[encoded data removed]",
      "text/plain": [
       "<Figure size 432x288 with 2 Axes>"
      ]
     },
     "metadata": {
      "needs_background": "light"
     },
     "output_type": "display_data"
    }
   ],
   "source": [
    "import numpy as np\n",
    "\n",
    "import tensorflow.keras\n",
    "from tensorflow.keras import models, layers, datasets, backend, utils, optimizers\n",
    "\n",
    "import matplotlib.pyplot as plt\n",
    "%matplotlib inline\n",
    "\n",
    "num_classes = 10\n",
    "\n",
    "# the data, split between train and test sets\n",
    "(x_train, y_train), (x_test, y_test) = datasets.mnist.load_data()\n",
    "x_train[x_train > 0] = 255\n",
    "x_test[x_test > 0] = 255\n",
    "\n",
    "x_train = x_train[..., np.newaxis]\n",
    "x_test = x_test[..., np.newaxis]\n",
    "\n",
    "def invert(images):\n",
    "    images[images == 0] = 1\n",
    "    images[images == 255] = 0\n",
    "    return images.astype(np.float32)\n",
    "    \n",
    "\n",
    "def cnn_model(optimizer, input_shape=(28, 28, 1)):\n",
    "    model = models.Sequential()\n",
    "    model.add(layers.Conv2D(32, kernel_size=(3, 3), activation='relu', input_shape=input_shape))\n",
    "    model.add(layers.Conv2D(64, (3, 3), activation='relu'))\n",
    "    model.add(layers.MaxPooling2D(pool_size=(2, 2)))\n",
    "    model.add(layers.Dropout(0.25))\n",
    "    model.add(layers.Flatten())\n",
    "    model.add(layers.Dense(128, activation='relu'))\n",
    "    model.add(layers.Dropout(0.5))\n",
    "    model.add(layers.Dense(num_classes, activation='softmax'))\n",
    "    model.compile(loss=\"categorical_crossentropy\", optimizer=optimizer, metrics=['accuracy'])\n",
    "    return model\n",
    "\n",
    "# white digit\n",
    "x_white_train = x_train / 255.\n",
    "x_white_test = x_test / 255.\n",
    "\n",
    "# black digit\n",
    "x_black_train = invert(x_train)\n",
    "x_black_test = invert(x_test)\n",
    "\n",
    "plt.subplot(121)\n",
    "plt.imshow(x_black_train[0, :, :, 0])\n",
    "plt.title(\"Black digit\")\n",
    "plt.subplot(122)\n",
    "plt.imshow(x_white_train[0, :, :, 0])\n",
    "plt.title(\"White digit\");\n",
    "\n",
    "# convert class vectors to binary class matrices\n",
    "y_train = tensorflow.keras.utils.to_categorical(y_train, num_classes)\n",
    "y_test = tensorflow.keras.utils.to_categorical(y_test, num_classes)"
   ]
  },
  {
   "cell_type": "code",
   "execution_count": null,
   "metadata": {
    "scrolled": false
   },
   "outputs": [
    {
     "name": "stdout",
     "output_type": "stream",
     "text": [
      "optimizer Adadelta\n",
      "training on white digits\n",
      "training on black digits\n",
      "optimizer SGD\n",
      "training on white digits\n",
      "training on black digits\n",
      "optimizer Adam\n",
      "training on white digits\n",
      "training on black digits\n"
     ]
    }
   ],
   "source": [
    "for optimizer in [optimizers.Adadelta, optimizers.SGD, optimizers.Adam]:\n",
    "    \n",
    "    model_white = cnn_model(optimizer=optimizer())\n",
    "    model_black = cnn_model(optimizer=optimizer())\n",
    "    \n",
    "    print(f\"optimizer {optimizer.__name__}\")\n",
    "    print(\"training on white digits\")\n",
    "    white = model_white.fit(x_white_train, y_train, batch_size=128, epochs=10, verbose=0, validation_data=(x_white_test, y_test))\n",
    "    print(\"training on black digits\")\n",
    "    black = model_black.fit(x_black_train, y_train, batch_size=128, epochs=10, verbose=0, validation_data=(x_black_test, y_test))\n",
    "    \n",
    "    plt.figure(figsize=(7, 4))\n",
    "    plt.subplot(121)\n",
    "    plt.plot(white.history[\"accuracy\"], label=\"train\")\n",
    "    plt.plot(white.history[\"val_accuracy\"], label=\"test\")\n",
    "    plt.grid(True)\n",
    "    plt.title(\"white-digit\", fontsize=15)\n",
    "    plt.ylabel(\"Accuracy\", fontsize=13)\n",
    "    plt.xlabel(\"Epoch\", fontsize=13)\n",
    "\n",
    "    plt.subplot(122)\n",
    "    plt.plot(black.history[\"accuracy\"], label=\"train\")\n",
    "    plt.plot(black.history[\"val_accuracy\"], label=\"test\")\n",
    "    plt.grid(True)\n",
    "    plt.title(\"black-digit\", fontsize=15)\n",
    "    plt.xlabel(\"Epoch\", fontsize=13)\n",
    "\n",
    "    plt.suptitle(f\"Optimizer={optimizer.__name__}\", fontsize=18)"
   ]
  }
 ],
 "metadata": {
  "kernelspec": {
   "display_name": "Python 3",
   "language": "python",
   "name": "python3"
  },
  "language_info": {
   "codemirror_mode": {
    "name": "ipython",
    "version": 3
   },
   "file_extension": ".py",
   "mimetype": "text/x-python",
   "name": "python",
   "nbconvert_exporter": "python",
   "pygments_lexer": "ipython3",
   "version": "3.6.8"
  }
 },
 "nbformat": 4,
 "nbformat_minor": 2
}
